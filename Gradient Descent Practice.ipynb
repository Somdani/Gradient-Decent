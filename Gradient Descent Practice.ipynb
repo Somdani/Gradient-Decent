{
 "cells": [
  {
   "cell_type": "markdown",
   "metadata": {},
   "source": [
    "### Bhekie Danisa\n",
    "### Student number: 201633631\n",
    "### Advanced Machine Learning Assignment"
   ]
  },
  {
   "cell_type": "markdown",
   "metadata": {},
   "source": [
    "# ."
   ]
  },
  {
   "cell_type": "markdown",
   "metadata": {},
   "source": [
    "#### Importing the necessary libraries"
   ]
  },
  {
   "cell_type": "code",
   "execution_count": 1,
   "metadata": {},
   "outputs": [],
   "source": [
    "import numpy as np\n",
    "import pandas as pd\n",
    "import matplotlib.pyplot as plt"
   ]
  },
  {
   "cell_type": "markdown",
   "metadata": {},
   "source": [
    "#### Loading data and separating its columns with spaces instead of semicolons "
   ]
  },
  {
   "cell_type": "code",
   "execution_count": 2,
   "metadata": {},
   "outputs": [],
   "source": [
    "path = 'C:/Users/Dahno Makaplan/Downloads/weightdataset.csv'\n",
    "data = pd.read_csv(path, sep=';')"
   ]
  },
  {
   "cell_type": "markdown",
   "metadata": {},
   "source": [
    "#### Grabbing the relevant data columns"
   ]
  },
  {
   "cell_type": "code",
   "execution_count": 3,
   "metadata": {},
   "outputs": [],
   "source": [
    "x = data['Weight']  #Select weight column and assign to x\n",
    "y = data['Height']  #Select height column and assign to y"
   ]
  },
  {
   "cell_type": "markdown",
   "metadata": {},
   "source": [
    "#### Normalizing input variables so that they have zero mean and unit variance, then adding column of 1's "
   ]
  },
  {
   "cell_type": "code",
   "execution_count": 4,
   "metadata": {},
   "outputs": [],
   "source": [
    "x = (x - x.mean()) / x.std()        #Scaling to normalize the input variable\n",
    "x = np.c_[np.ones(x.shape[0]), x]   #Adding the column of 1's"
   ]
  },
  {
   "cell_type": "markdown",
   "metadata": {},
   "source": [
    "#### Creating and declaring ralevant parameters"
   ]
  },
  {
   "cell_type": "code",
   "execution_count": 5,
   "metadata": {},
   "outputs": [],
   "source": [
    "np.random.seed(123)   #Generate seed\n",
    "θ = np.random.rand(2) #Pick some random values to start with\n",
    "α = 0.01              #Step size\n",
    "epochs = 1000         #number of iterations\n",
    "M = len(y)"
   ]
  },
  {
   "cell_type": "markdown",
   "metadata": {},
   "source": [
    "#### Building Gradient Descent algorithm"
   ]
  },
  {
   "cell_type": "code",
   "execution_count": 6,
   "metadata": {},
   "outputs": [],
   "source": [
    "def gradient_descent(x, y, θ, α, epochs):\n",
    "    prev_c = []\n",
    "    prev_θ = [θ]\n",
    "    for i in range(epochs):\n",
    "        y_pred = np.dot(x, θ)\n",
    "        err = y_pred - y\n",
    "        c = (1 / (2 * M)) * np.dot(err.T, err)\n",
    "        prev_c.append(c)\n",
    "        θ = θ - (α * (1 / M) * np.dot(x.T, err))\n",
    "        prev_θ.append(θ)\n",
    "    \n",
    "    return prev_θ, prev_c\n",
    "\n",
    "prev_θ, prev_c = gradient_descent(x, y, θ, α, epochs)\n",
    "θ = prev_θ[-1]"
   ]
  },
  {
   "cell_type": "code",
   "execution_count": 7,
   "metadata": {},
   "outputs": [
    {
     "name": "stdout",
     "output_type": "stream",
     "text": [
      "Gradient Descent: 66.36, 3.56\n"
     ]
    }
   ],
   "source": [
    "print(\"Gradient Descent: {:.2f}, {:.2f}\".format(θ[0], θ[1]))"
   ]
  },
  {
   "cell_type": "code",
   "execution_count": 8,
   "metadata": {},
   "outputs": [
    {
     "data": {
      "image/png": "[encoded data removed]",
      "text/plain": [
       "<Figure size 432x288 with 1 Axes>"
      ]
     },
     "metadata": {
      "needs_background": "light"
     },
     "output_type": "display_data"
    }
   ],
   "source": [
    "plt.title('Cost Function J')\n",
    "plt.xlabel('No. of iterations')\n",
    "plt.ylabel('Cost')\n",
    "plt.plot(prev_c)\n",
    "plt.show()"
   ]
  },
  {
   "cell_type": "code",
   "execution_count": null,
   "metadata": {},
   "outputs": [],
   "source": []
  }
 ],
 "metadata": {
  "kernelspec": {
   "display_name": "Python 3",
   "language": "python",
   "name": "python3"
  },
  "language_info": {
   "codemirror_mode": {
    "name": "ipython",
    "version": 3
   },
   "file_extension": ".py",
   "mimetype": "text/x-python",
   "name": "python",
   "nbconvert_exporter": "python",
   "pygments_lexer": "ipython3",
   "version": "3.7.3"
  }
 },
 "nbformat": 4,
 "nbformat_minor": 2
}
